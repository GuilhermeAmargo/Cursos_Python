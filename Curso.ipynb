{
  "cells": [
    {
      "cell_type": "markdown",
      "metadata": {
        "id": "view-in-github",
        "colab_type": "text"
      },
      "source": [
        "<a href=\"https://colab.research.google.com/github/GuilhermeAmargo/Cursos_Python/blob/main/Curso.ipynb\" target=\"_parent\"><img src=\"https://colab.research.google.com/assets/colab-badge.svg\" alt=\"Open In Colab\"/></a>"
      ]
    },
    {
      "cell_type": "code",
      "execution_count": null,
      "metadata": {
        "colab": {
          "base_uri": "https://localhost:8080/"
        },
        "id": "mkbM7U_plCdE",
        "outputId": "f075e575-32c0-4a7c-b809-04fbdd7412bc"
      },
      "outputs": [
        {
          "name": "stdout",
          "output_type": "stream",
          "text": [
            "Hello World\n"
          ]
        }
      ],
      "source": [
        "# Print\n",
        "print(\"Hello World\")"
      ]
    },
    {
      "cell_type": "code",
      "execution_count": null,
      "metadata": {
        "colab": {
          "base_uri": "https://localhost:8080/"
        },
        "id": "JVoqpaexnCZO",
        "outputId": "3ed6091b-a483-430a-caa2-c587741d25de"
      },
      "outputs": [
        {
          "name": "stdout",
          "output_type": "stream",
          "text": [
            "   /|\n",
            "  / |\n",
            " /  |\n",
            "/___|\n"
          ]
        }
      ],
      "source": [
        "# Draw triangle\n",
        "print(\"   /|\")\n",
        "print(\"  / |\")\n",
        "print(\" /  |\")\n",
        "print(\"/___|\")"
      ]
    },
    {
      "cell_type": "code",
      "execution_count": null,
      "metadata": {
        "colab": {
          "base_uri": "https://localhost:8080/"
        },
        "id": "ah4NyjwzoRPT",
        "outputId": "ba40c786-a490-490b-f3fd-a96fa00cde40"
      },
      "outputs": [
        {
          "name": "stdout",
          "output_type": "stream",
          "text": [
            "There once was a man named George, \n",
            "he was 70 years old. \n",
            "He really liked the name George, \n",
            "but didn't like being 70.\n",
            "There once was a man named John ,\n",
            "he was 50 years old. \n",
            "He really liked the name Tom ,\n",
            "but didn't like being 50\n"
          ]
        }
      ],
      "source": [
        "# Variables and data types\n",
        "character_name = \"John\"\n",
        "character_age = 50\n",
        "isMale = True\n",
        "\n",
        "print(\"There once was a man named George, \")\n",
        "print(\"he was 70 years old. \")\n",
        "print(\"He really liked the name George, \")\n",
        "print(\"but didn't like being 70.\")\n",
        "\n",
        "print(\"There once was a man named\", character_name, \",\")\n",
        "print(\"he was\", character_age, \"years old. \")\n",
        "character_name = \"Tom\"\n",
        "print(\"He really liked the name\", character_name, \",\")\n",
        "print(\"but didn't like being\", character_age)\n",
        "\n"
      ]
    },
    {
      "cell_type": "code",
      "execution_count": null,
      "metadata": {
        "colab": {
          "base_uri": "https://localhost:8080/"
        },
        "id": "Lruux_3ern8h",
        "outputId": "bf8d2586-bfb3-4f1d-ff32-cea5a915b7df"
      },
      "outputs": [
        {
          "name": "stdout",
          "output_type": "stream",
          "text": [
            "Giraffe Academy\n",
            "giraffe academy\n",
            "GIRAFFE ACADEMY\n",
            "False\n",
            "True\n",
            "15\n",
            "G\n",
            "a\n",
            "0\n",
            "8\n",
            "Elephant Academy\n",
            "Giraffe Academy is cool\n",
            "Giraffe Academy\n",
            "Giraffe\n",
            "Academy\n",
            "Giraffe\"Academy\n",
            "Giraffe\\Academy\n"
          ]
        }
      ],
      "source": [
        "# String\n",
        "phrase = \"Giraffe Academy\"\n",
        "\n",
        "print(phrase)\n",
        "print(phrase.lower())\n",
        "print(phrase.upper())\n",
        "print(phrase.isupper())\n",
        "print(phrase.upper().isupper())\n",
        "print(len(phrase))\n",
        "print(phrase[0])\n",
        "print(phrase[3])\n",
        "print(phrase.index(\"G\"))\n",
        "print(phrase.index(\"Acad\"))\n",
        "print(phrase.replace(\"Giraffe\",\"Elephant\"))\n",
        "\n",
        "print(phrase + \" is cool\")\n",
        "\n",
        "print(\"Giraffe Academy\")\n",
        "print(\"Giraffe\\nAcademy\")\n",
        "print(\"Giraffe\\\"Academy\")\n",
        "print(\"Giraffe\\Academy\")"
      ]
    },
    {
      "cell_type": "code",
      "execution_count": null,
      "metadata": {
        "colab": {
          "base_uri": "https://localhost:8080/"
        },
        "id": "7oALmP_yup54",
        "outputId": "29b6c468-f3e2-41ee-a0a1-49a9d0cc0118"
      },
      "outputs": [
        {
          "name": "stdout",
          "output_type": "stream",
          "text": [
            "2\n",
            "2.3323\n",
            "7.5\n",
            "12\n",
            "17\n",
            "27\n",
            "1\n",
            "-5\n",
            "-5 my favorite number\n",
            "5\n",
            "25.0\n",
            "2025.0\n",
            "6\n",
            "4\n",
            "3\n",
            "4\n",
            "3\n",
            "4\n",
            "6.0\n"
          ]
        }
      ],
      "source": [
        "# Numbers\n",
        "from math import *\n",
        "\n",
        "my_num = -5\n",
        "print(2)\n",
        "print(2.3323)\n",
        "print(3  + 4.5)\n",
        "print(3 * 4)\n",
        "print(3 * 4 + 5)\n",
        "print(3 * (4 + 5))\n",
        "print(10 % 3)\n",
        "print(my_num)\n",
        "print(str(my_num) + \" my favorite number\")\n",
        "print(abs(my_num))\n",
        "print(pow(my_num, 2))\n",
        "print(pow(45, 2))\n",
        "print(max(4, 6))\n",
        "print(min(4, 6))\n",
        "print(round(3.2))\n",
        "print(round(3.7))\n",
        "print(floor(3.7))\n",
        "print(ceil(3.1))\n",
        "print(sqrt(36))"
      ]
    },
    {
      "cell_type": "code",
      "execution_count": null,
      "metadata": {
        "colab": {
          "background_save": true
        },
        "id": "3DzjryYJxHZq"
      },
      "outputs": [],
      "source": [
        "# Inputs\n",
        "name = input(\"Enter your name: \")\n",
        "age = input(\"Enter your age: \")\n",
        "\n",
        "print(\"Hello \" + name + \"! You are \" + age)"
      ]
    },
    {
      "cell_type": "code",
      "execution_count": null,
      "metadata": {
        "colab": {
          "background_save": true
        },
        "id": "GRnXwVBIx_yl"
      },
      "outputs": [],
      "source": [
        "# Calculator\n",
        "num1 = input(\"Enter a number: \")\n",
        "num2 = input(\"Enter another number: \")\n",
        "result = float(num1) + float(num2)\n",
        "\n",
        "print(result)"
      ]
    },
    {
      "cell_type": "code",
      "execution_count": null,
      "metadata": {
        "colab": {
          "background_save": true
        },
        "id": "JpdwMzqNzVam"
      },
      "outputs": [],
      "source": [
        "# mad libs\n",
        "color = input(\"Enter a color: \")\n",
        "plural_noun = input(\"Enter a Plural Noun: \")\n",
        "celebrity = input(\"Enter a celebrity: \")\n",
        "\n",
        "print(\"Roses are \" + color)\n",
        "print(plural_noun + \" are blue\")\n",
        "print(\"I love \" + celebrity)\n",
        "\n"
      ]
    },
    {
      "cell_type": "code",
      "execution_count": null,
      "metadata": {
        "colab": {
          "background_save": true
        },
        "id": "0ZvmDCVx0wJv"
      },
      "outputs": [],
      "source": [
        "# Lists\n",
        "friends = [\"Kevin\", \"Karen\", \"Jim\", \"Oscar\", \"Toby\"]\n",
        "friends[1] = \"Mike\"\n",
        "print(friends[1])\n",
        "print(friends)\n",
        "print(friends[0])\n",
        "print(friends[-1])\n",
        "print(friends[1:])\n",
        "print(friends[1:3])\n"
      ]
    },
    {
      "cell_type": "code",
      "execution_count": null,
      "metadata": {
        "colab": {
          "background_save": true
        },
        "id": "2YGR8UqC208I"
      },
      "outputs": [],
      "source": [
        "# List functions\n",
        "lucky_numbers = [4, 8, 15, 16, 23, 42]\n",
        "friends = [\"Kevin\", \"Karen\", \"Jim\", \"Jim\", \"Oscar\", \"Toby\"]\n",
        "friends2 = friends,copy()\n",
        "\n",
        "# friends.extend(lucky_numbers)\n",
        "friends.append(\"Creed\")\n",
        "friends.insert(1, \"Kelly\")\n",
        "friends.remove(\"Jim\")\n",
        "# friends.clear()\n",
        "# friends.pop()\n",
        "friends.sort()\n",
        "print(friends.index(\"Kevin\"))\n",
        "print(friends)\n",
        "print(friends.count(\"Jim\"))\n",
        "lucky_numbers.reverse()\n",
        "print(lucky_numbers)"
      ]
    },
    {
      "cell_type": "code",
      "execution_count": null,
      "metadata": {
        "colab": {
          "background_save": true
        },
        "id": "sWMUFGT56Pao"
      },
      "outputs": [],
      "source": [
        "# Tuples\n",
        "coordinates = (4, 5)\n",
        " # coordinates[1] = 10\n",
        "print(coordinates[1])"
      ]
    },
    {
      "cell_type": "code",
      "execution_count": null,
      "metadata": {
        "colab": {
          "background_save": true
        },
        "id": "SJ_n7QCV7gIs"
      },
      "outputs": [],
      "source": [
        "# Functions\n",
        "def say_hi(name, age):\n",
        "  print(\"Hello \" + name + \", you are \" + str(age))\n",
        "\n",
        "print(\"Top\")\n",
        "say_hi(\"Mike\", 35)\n",
        "say_hi(\"Steve\", 70)\n",
        "print(\"Bottom\")"
      ]
    },
    {
      "cell_type": "code",
      "execution_count": null,
      "metadata": {
        "colab": {
          "background_save": true
        },
        "id": "Hz_4SQeFEI0c"
      },
      "outputs": [],
      "source": [
        "# Return\n",
        "def cube(num):\n",
        "  return num*num*num\n",
        "\n",
        "result = cube(3)\n",
        "print(result)"
      ]
    },
    {
      "cell_type": "code",
      "execution_count": null,
      "metadata": {
        "colab": {
          "background_save": true
        },
        "id": "qsBvlsSPFbR4"
      },
      "outputs": [],
      "source": [
        "# If statements\n",
        "is_male = False\n",
        "is_tall = False\n",
        "\n",
        "if is_male and is_tall:\n",
        "  print(\"You are a tall male\")\n",
        "elif is_male and not(is_tall):\n",
        "  print(\"You are a short male\")\n",
        "elif not(is_male) and is_tall:\n",
        "  print(\"You are not a male but are tall\")\n",
        "else:\n",
        "  print(\"You are not a male and not tall\")"
      ]
    },
    {
      "cell_type": "code",
      "execution_count": null,
      "metadata": {
        "colab": {
          "background_save": true
        },
        "id": "A8P_K25VI7RA"
      },
      "outputs": [],
      "source": [
        "# If statements (comparisons)\n",
        "def max_num(num1, num2, num3):\n",
        "  if num1 >= num2 and num1 >= num3:\n",
        "    return num1\n",
        "  elif num2 >= num1 and num2 >= num3:\n",
        "    return num2\n",
        "  else:\n",
        "    return num3\n",
        "\n",
        "print(max_num(300, 40, 5))"
      ]
    },
    {
      "cell_type": "code",
      "execution_count": null,
      "metadata": {
        "colab": {
          "background_save": true
        },
        "id": "vKG2JQY1KfbF"
      },
      "outputs": [],
      "source": [
        "# Better calculator\n",
        "num1 = float(input(\"Enter first number: \"))\n",
        "op = input(\"Enter operator: \")\n",
        "num2 = float(input(\"Enter second number: \"))\n",
        "\n",
        "if op == \"+\":\n",
        "  print(num1 + num2)\n",
        "elif op == \"-\":\n",
        "  print(num1 - num2)\n",
        "elif op == \"/\":\n",
        "  print(num1 / num2)\n",
        "elif op == \"*\":\n",
        "  print(num1 * num2)\n",
        "else:\n",
        "  print(\"Invalid operator\")\n"
      ]
    },
    {
      "cell_type": "code",
      "execution_count": null,
      "metadata": {
        "colab": {
          "background_save": true
        },
        "id": "Da2iVdyZMHnP"
      },
      "outputs": [],
      "source": [
        "# Dictionaire\n",
        "monthConversions = {\n",
        "    \"Jan\" : \"January\",\n",
        "    \"Feb\" : \"February\",\n",
        "    \"Mar\" : \"March\",\n",
        "    \"Apr\" : \"April\",\n",
        "    \"May\" : \"May\",\n",
        "    \"Jun\" : \"June\",\n",
        "    \"Jul\" : \"July\",\n",
        "    \"Aug\" : \"August\",\n",
        "    \"Sep\" : \"September\",\n",
        "    \"Oct\" : \"October\",\n",
        "    \"Nov\" : \"November\",\n",
        "    \"Dec\" : \"December\",\n",
        "}\n",
        "\n",
        "print(monthConversions[\"Nov\"])"
      ]
    },
    {
      "cell_type": "code",
      "execution_count": null,
      "metadata": {
        "colab": {
          "background_save": true
        },
        "id": "q-PdSgcyP1JU"
      },
      "outputs": [],
      "source": [
        "# While loop\n",
        "i = 1\n",
        "while i <= 10:\n",
        "  print(i)\n",
        "  i += 1\n",
        "\n",
        "print(\"Done with loop\")"
      ]
    },
    {
      "cell_type": "code",
      "execution_count": null,
      "metadata": {
        "colab": {
          "background_save": true
        },
        "id": "evqORtnaRDN-"
      },
      "outputs": [],
      "source": [
        "# Guessing game\n",
        "secret_word = \"giraffe\"\n",
        "guess = \"\"\n",
        "guess_count = 0\n",
        "guess_limit = 3\n",
        "out_of_guesses = False\n",
        "\n",
        "while guess != secret_word and not(out_of_guesses):\n",
        "  if guess_count < guess_limit:\n",
        "    guess = input(\"Enter guess: \")\n",
        "    guess_count += 1\n",
        "  else:\n",
        "    out_of_guesses = True\n",
        "\n",
        "if out_of_guesses:\n",
        "  print(\"Out of guesses, YOU LOSE!\")\n",
        "else:\n",
        "  print(\"You win!\")"
      ]
    },
    {
      "cell_type": "code",
      "execution_count": null,
      "metadata": {
        "colab": {
          "background_save": true
        },
        "id": "Evcu37rSUMXp"
      },
      "outputs": [],
      "source": [
        "# For Loop\n",
        "for letter in \"Giraffe Academy\":\n",
        "  print(letter)"
      ]
    },
    {
      "cell_type": "code",
      "execution_count": null,
      "metadata": {
        "colab": {
          "background_save": true
        },
        "id": "Rz05cZDPX8XJ"
      },
      "outputs": [],
      "source": [
        "friends = [\"Jim\", \"Karen\", \"Kevin\"]\n",
        "for friend in friends:\n",
        "  print(friend)"
      ]
    },
    {
      "cell_type": "code",
      "execution_count": null,
      "metadata": {
        "colab": {
          "background_save": true
        },
        "id": "UQp92LT_YPxx"
      },
      "outputs": [],
      "source": [
        "friends = [\"Jim\", \"Karen\", \"Kevin\"]\n",
        "len(friends)\n",
        "for index in range(len(friends)):\n",
        "  print(friends[index])"
      ]
    },
    {
      "cell_type": "code",
      "execution_count": null,
      "metadata": {
        "colab": {
          "background_save": true
        },
        "id": "042jm96MZC3b"
      },
      "outputs": [],
      "source": [
        "friends = [\"Jim\", \"Karen\", \"Kevin\"]\n",
        "len(friends)\n",
        "for index in range(5):\n",
        "  if index == 0:\n",
        "    print(\"First iteration\")\n",
        "  else:\n",
        "    print(\"Not first\")\n"
      ]
    },
    {
      "cell_type": "code",
      "execution_count": null,
      "metadata": {
        "colab": {
          "background_save": true
        },
        "id": "B_iH7_yCZTmZ"
      },
      "outputs": [],
      "source": [
        "# Exponent function\n",
        "def raise_to_power(base_num, pow_num):\n",
        "  result = 1\n",
        "  for index in range(pow_num):\n",
        "    result = result * base_num\n",
        "  return result\n",
        "\n",
        "print(raise_to_power(3 , 3))"
      ]
    },
    {
      "cell_type": "code",
      "execution_count": null,
      "metadata": {
        "colab": {
          "background_save": true
        },
        "id": "Wah1U51SaxGL"
      },
      "outputs": [],
      "source": [
        "# List e nested loops\n",
        "number_grid = [\n",
        "    [1, 2, 3],\n",
        "    [4, 5, 6],\n",
        "    [7, 8, 9],\n",
        "    [0]\n",
        "]\n",
        "\n",
        "# print(number_grid[2][1])\n",
        "\n",
        "for row in number_grid:\n",
        "  for col in row:\n",
        "    print(col)"
      ]
    },
    {
      "cell_type": "code",
      "execution_count": null,
      "metadata": {
        "colab": {
          "background_save": true
        },
        "id": "Huw2akrXcCvy"
      },
      "outputs": [],
      "source": [
        "# Translator vowels -> g\n",
        "def translate(phrase):\n",
        "  translation = \"\"\n",
        "  for letter in phrase:\n",
        "    if letter.lower() in \"aeiou\":\n",
        "      if letter.isupper():\n",
        "        translation = translation + \"G\"\n",
        "      else:\n",
        "        translation = translation + \"g\"\n",
        "    else:\n",
        "      translation = translation + letter\n",
        "  return translation\n",
        "\n",
        "print(translate(input(\"Enter a phrase: \")))"
      ]
    },
    {
      "cell_type": "code",
      "execution_count": null,
      "metadata": {
        "colab": {
          "background_save": true
        },
        "id": "RCYVGtI7eP76"
      },
      "outputs": [],
      "source": [
        "# Comments\n",
        "'''Multiple line comment'''"
      ]
    },
    {
      "cell_type": "code",
      "execution_count": null,
      "metadata": {
        "colab": {
          "background_save": true
        },
        "id": "rgEM2TD2fK5A"
      },
      "outputs": [],
      "source": [
        "# Try except\n",
        "try:\n",
        "  answer = 10 / 0\n",
        "  number = int(input(\"Enter a number: \"))\n",
        "  print(number)\n",
        "except ZeroDivisionError as err:\n",
        "  print(err)\n",
        "except ValueError:\n",
        "  print(\"Invalid input\")"
      ]
    },
    {
      "cell_type": "code",
      "execution_count": null,
      "metadata": {
        "colab": {
          "background_save": true
        },
        "id": "9DulF4VwhIS1"
      },
      "outputs": [],
      "source": [
        "# Reading files\n",
        "name_file = open(\"Nomes.txt\", \"r\")\n",
        "# print(name_file.readable())\n",
        "# print(name_file.read())\n",
        "# print(name_file.readline())\n",
        "for name in name_file.readlines():\n",
        "  print(name)\n",
        "# print(name_file.readlines())\n",
        "\n",
        "name_file.close()"
      ]
    },
    {
      "cell_type": "code",
      "execution_count": null,
      "metadata": {
        "colab": {
          "background_save": true
        },
        "id": "6w5y9chIu63r"
      },
      "outputs": [],
      "source": [
        "# Writing files\n",
        "name_file = open(\"Nomes.txt\", \"w\")\n",
        "name_file.write(\"\\nLeon\")\n",
        "name_file.close"
      ]
    },
    {
      "cell_type": "code",
      "execution_count": null,
      "metadata": {
        "colab": {
          "background_save": true
        },
        "id": "ARx88ZAhHaK5"
      },
      "outputs": [],
      "source": [
        "# Quiz\n",
        "class Question:\n",
        "  def __init__(self, prompt, answer):\n",
        "    self.prompt = prompt\n",
        "    self.answer = answer\n",
        "\n",
        "question_prompts = [\n",
        "    \"What color are apples?\\n(a) Red/Green\\n(b) Purple\\n(c) Orange\\n\\n\",\n",
        "    \"What color are Bananas?\\n(a) Teal\\n(b) Magenta\\n(c) Yellow\\n\\n\",\n",
        "    \"What color are strawberries?\\n(a) Yellow\\n(b) Red\\n(c) Blue\\n\\n\"\n",
        "]\n",
        "\n",
        "questions = [\n",
        "    Question(question_prompts[0], \"a\"),\n",
        "    Question(question_prompts[1], \"c\"),\n",
        "    Question(question_prompts[2], \"b\"),\n",
        "]\n",
        "\n",
        "def run_test(questions):\n",
        "  score = 0\n",
        "  for question in questions:\n",
        "    answer = input(question.prompt)\n",
        "    if answer == question.answer:\n",
        "      score += 1\n",
        "  print(\"You got \" + str(score) + \"/\" + str(len(questions)) + \" correct\")\n",
        "\n",
        "run_test(questions)"
      ]
    }
  ],
  "metadata": {
    "colab": {
      "provenance": [],
      "authorship_tag": "ABX9TyN1bL0LXZkm5L9EUmpgoZZV",
      "include_colab_link": true
    },
    "kernelspec": {
      "display_name": "Python 3",
      "name": "python3"
    },
    "language_info": {
      "name": "python"
    }
  },
  "nbformat": 4,
  "nbformat_minor": 0
}